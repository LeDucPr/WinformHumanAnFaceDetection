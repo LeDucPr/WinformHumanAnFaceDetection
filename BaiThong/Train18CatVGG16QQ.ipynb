{
 "cells": [
  {
   "cell_type": "code",
   "execution_count": 7,
   "metadata": {},
   "outputs": [],
   "source": [
    "import numpy as np\n",
    "import tensorflow as tf\n",
    "import os\n",
    "from keras.preprocessing.image import ImageDataGenerator\n",
    "from tensorflow.python.client import device_lib\n"
   ]
  },
  {
   "cell_type": "code",
   "execution_count": 8,
   "metadata": {},
   "outputs": [
    {
     "name": "stdout",
     "output_type": "stream",
     "text": [
      "['/device:GPU:0']\n"
     ]
    }
   ],
   "source": [
    "def get_available_gpus():\n",
    "    local_device_protos = device_lib.list_local_devices()\n",
    "    return [x.name for x in local_device_protos if x.device_type == 'GPU']\n",
    "print (get_available_gpus())\n"
   ]
  },
  {
   "cell_type": "code",
   "execution_count": 9,
   "metadata": {},
   "outputs": [
    {
     "name": "stdout",
     "output_type": "stream",
     "text": [
      "Found 4399 images belonging to 18 classes.\n",
      "Found 175 images belonging to 18 classes.\n"
     ]
    }
   ],
   "source": [
    "\n",
    "# Đường dẫn đến thư mục train và test\n",
    "train_dir = r'C:\\\\Users\\\\duc18\\\\@MyData\\\\@Python\\\\CatBreedsRefined-7K\\\\CatBreedsRefined-v2_OutputCutter256'\n",
    "test_dir = r'C:\\\\Users\\\\duc18\\\\@MyData\\\\@Python\\\\CatBreedsRefined-7K\\\\VL_OutputCutter256'\n",
    "\n",
    "# Tạo ImageDataGenerator\n",
    "train_datagen = ImageDataGenerator(rescale=1./255)\n",
    "test_datagen = ImageDataGenerator(rescale=1./255)\n",
    "\n",
    "# Tạo generator từ thư mục train và test\n",
    "train_generator = train_datagen.flow_from_directory(\n",
    "    train_dir,\n",
    "    target_size=(256, 256),\n",
    "    batch_size=16,\n",
    "    class_mode='categorical',\n",
    "    color_mode='rgb'\n",
    ")\n",
    "\n",
    "test_generator = test_datagen.flow_from_directory(\n",
    "    test_dir,\n",
    "    target_size=(256, 256),\n",
    "    batch_size=16,\n",
    "    class_mode='categorical',\n",
    "    color_mode='rgb'\n",
    ")\n"
   ]
  },
  {
   "cell_type": "code",
   "execution_count": 10,
   "metadata": {},
   "outputs": [
    {
     "name": "stdout",
     "output_type": "stream",
     "text": [
      "Train - Abyssinian: 240\n",
      "Train - American Bobtail: 248\n",
      "Train - American Curl: 258\n",
      "Train - American Shorthair: 263\n",
      "Train - Bengal: 241\n",
      "Train - Birman: 265\n",
      "Train - Bombay: 243\n",
      "Train - British Shorthair: 267\n",
      "Train - Egyptian Mau: 262\n",
      "Train - Maine Coon: 274\n",
      "Train - Norwegian Forest: 267\n",
      "Train - Persian: 247\n",
      "Train - Ragdoll: 266\n",
      "Train - Russian Blue: 268\n",
      "Train - Scottish Fold: 259\n",
      "Train - Siamese: 248\n",
      "Train - Sphynx: 83\n",
      "Train - Turkish Angora: 200\n",
      "Test - Abyssinian: 10\n",
      "Test - American Bobtail: 10\n",
      "Test - American Curl: 10\n",
      "Test - American Shorthair: 10\n",
      "Test - Bengal: 10\n",
      "Test - Birman: 10\n",
      "Test - Bombay: 10\n",
      "Test - British Shorthair: 10\n",
      "Test - Egyptian Mau: 9\n",
      "Test - Maine Coon: 10\n",
      "Test - Norwegian Forest: 11\n",
      "Test - Persian: 12\n",
      "Test - Ragdoll: 9\n",
      "Test - Russian Blue: 10\n",
      "Test - Scottish Fold: 10\n",
      "Test - Siamese: 13\n",
      "Test - Sphynx: 3\n",
      "Test - Turkish Angora: 8\n",
      "Abyssinian: [1. 0. 0. 0. 0. 0. 0. 0. 0. 0. 0. 0. 0. 0. 0. 0. 0. 0.]\n",
      "American Bobtail: [0. 1. 0. 0. 0. 0. 0. 0. 0. 0. 0. 0. 0. 0. 0. 0. 0. 0.]\n",
      "American Curl: [0. 0. 1. 0. 0. 0. 0. 0. 0. 0. 0. 0. 0. 0. 0. 0. 0. 0.]\n",
      "American Shorthair: [0. 0. 0. 1. 0. 0. 0. 0. 0. 0. 0. 0. 0. 0. 0. 0. 0. 0.]\n",
      "Bengal: [0. 0. 0. 0. 1. 0. 0. 0. 0. 0. 0. 0. 0. 0. 0. 0. 0. 0.]\n",
      "Birman: [0. 0. 0. 0. 0. 1. 0. 0. 0. 0. 0. 0. 0. 0. 0. 0. 0. 0.]\n",
      "Bombay: [0. 0. 0. 0. 0. 0. 1. 0. 0. 0. 0. 0. 0. 0. 0. 0. 0. 0.]\n",
      "British Shorthair: [0. 0. 0. 0. 0. 0. 0. 1. 0. 0. 0. 0. 0. 0. 0. 0. 0. 0.]\n",
      "Egyptian Mau: [0. 0. 0. 0. 0. 0. 0. 0. 1. 0. 0. 0. 0. 0. 0. 0. 0. 0.]\n",
      "Maine Coon: [0. 0. 0. 0. 0. 0. 0. 0. 0. 1. 0. 0. 0. 0. 0. 0. 0. 0.]\n",
      "Norwegian Forest: [0. 0. 0. 0. 0. 0. 0. 0. 0. 0. 1. 0. 0. 0. 0. 0. 0. 0.]\n",
      "Persian: [0. 0. 0. 0. 0. 0. 0. 0. 0. 0. 0. 1. 0. 0. 0. 0. 0. 0.]\n",
      "Ragdoll: [0. 0. 0. 0. 0. 0. 0. 0. 0. 0. 0. 0. 1. 0. 0. 0. 0. 0.]\n",
      "Russian Blue: [0. 0. 0. 0. 0. 0. 0. 0. 0. 0. 0. 0. 0. 1. 0. 0. 0. 0.]\n",
      "Scottish Fold: [0. 0. 0. 0. 0. 0. 0. 0. 0. 0. 0. 0. 0. 0. 1. 0. 0. 0.]\n",
      "Siamese: [0. 0. 0. 0. 0. 0. 0. 0. 0. 0. 0. 0. 0. 0. 0. 1. 0. 0.]\n",
      "Sphynx: [0. 0. 0. 0. 0. 0. 0. 0. 0. 0. 0. 0. 0. 0. 0. 0. 1. 0.]\n",
      "Turkish Angora: [0. 0. 0. 0. 0. 0. 0. 0. 0. 0. 0. 0. 0. 0. 0. 0. 0. 1.]\n"
     ]
    }
   ],
   "source": [
    "# Hiển thị số lượng mẫu trong mỗi lớp cho tập huấn luyện\n",
    "train_class_counts = np.bincount(train_generator.classes)\n",
    "for emotion, count in zip(train_generator.class_indices, train_class_counts):\n",
    "    print(f'Train - {emotion}: {count}')\n",
    "\n",
    "# Hiển thị số lượng mẫu trong mỗi lớp cho tập kiểm tra\n",
    "test_class_counts = np.bincount(test_generator.classes)\n",
    "for emotion, count in zip(test_generator.class_indices, test_class_counts):\n",
    "    print(f'Test - {emotion}: {count}')\n",
    "\n",
    "# Hiển thị dạng one-hot của mỗi lớp\n",
    "for emotion, index in train_generator.class_indices.items():\n",
    "    one_hot = tf.keras.utils.to_categorical(index, num_classes=len(train_generator.class_indices))\n",
    "    print(f'{emotion}: {one_hot}')\n"
   ]
  },
  {
   "cell_type": "code",
   "execution_count": 11,
   "metadata": {},
   "outputs": [
    {
     "name": "stdout",
     "output_type": "stream",
     "text": [
      "{'Abyssinian': 0, 'American Bobtail': 1, 'American Curl': 2, 'American Shorthair': 3, 'Bengal': 4, 'Birman': 5, 'Bombay': 6, 'British Shorthair': 7, 'Egyptian Mau': 8, 'Maine Coon': 9, 'Norwegian Forest': 10, 'Persian': 11, 'Ragdoll': 12, 'Russian Blue': 13, 'Scottish Fold': 14, 'Siamese': 15, 'Sphynx': 16, 'Turkish Angora': 17}\n"
     ]
    }
   ],
   "source": [
    "print (train_generator.class_indices)"
   ]
  },
  {
   "cell_type": "code",
   "execution_count": 12,
   "metadata": {},
   "outputs": [
    {
     "name": "stdout",
     "output_type": "stream",
     "text": [
      "Data shape: (256, 256, 3)\n",
      "Data shape: (256, 256, 3)\n"
     ]
    }
   ],
   "source": [
    "def print_data_shape(generator): # oke, ta đã có kích thước cho mỗi traain hoặc test là 48x48x3\n",
    "    print(f'Data shape: {generator.image_shape}')\n",
    "\n",
    "print_data_shape(train_generator)\n",
    "print_data_shape(test_generator)\n"
   ]
  },
  {
   "cell_type": "code",
   "execution_count": 13,
   "metadata": {},
   "outputs": [],
   "source": [
    "from keras.applications import ResNet50\n",
    "from keras.models import Sequential\n",
    "from keras.layers import Dense, Conv2D, MaxPooling2D\n",
    "from keras.layers import Dropout, Flatten, BatchNormalization\n",
    "from keras.callbacks import ReduceLROnPlateau, EarlyStopping\n",
    "from keras.optimizers import Adam\n",
    "from sklearn.metrics import confusion_matrix\n",
    "from keras.regularizers import l2\n"
   ]
  },
  {
   "cell_type": "code",
   "execution_count": 14,
   "metadata": {},
   "outputs": [
    {
     "name": "stdout",
     "output_type": "stream",
     "text": [
      "(256, 256, 3)\n"
     ]
    }
   ],
   "source": [
    "input_shape=train_generator.image_shape\n",
    "print (input_shape)"
   ]
  },
  {
   "cell_type": "code",
   "execution_count": 15,
   "metadata": {},
   "outputs": [],
   "source": [
    "# Initialize a sequential model\n",
    "model = Sequential()\n",
    "\n",
    "# Set the weight decay value for L2 regularization\n",
    "weight_decay = 0.0001\n",
    "\n",
    "# Add the first convolutional layer with 32 filters of size 3x3\n",
    "model.add(Conv2D(input_shape=input_shape, filters=16, kernel_size=(3,3), padding='same', activation='relu', kernel_regularizer=l2(weight_decay)))\n",
    "                #  input_shape=train_generator.image_shape))\n",
    "# Add batch normalization layer\n",
    "model.add(BatchNormalization())\n",
    "\n",
    "# Add the second convolutional layer similar to the first\n",
    "model.add(Conv2D(filters=32, kernel_size=(3,3), padding='same', activation='relu', kernel_regularizer=l2(weight_decay)))\n",
    "model.add(BatchNormalization())\n",
    "\n",
    "# Add the first max pooling layer with pool size of 2x2\n",
    "model.add(MaxPooling2D(pool_size=(2, 2)))\n",
    "# Add dropout layer with 0.2 dropout rate\n",
    "model.add(Dropout(rate=0.2))\n",
    "\n",
    "# Add the third and fourth convolutional layers with 64 filters\n",
    "model.add(Conv2D(filters=64, kernel_size=(3,3), padding='same', activation='relu', kernel_regularizer=l2(weight_decay)))\n",
    "model.add(BatchNormalization())\n",
    "model.add(Conv2D(filters=64, kernel_size=(3,3), padding='same', activation='relu', kernel_regularizer=l2(weight_decay)))\n",
    "model.add(BatchNormalization())\n",
    "\n",
    "# Add the second max pooling layer and increase dropout rate to 0.3\n",
    "model.add(MaxPooling2D(pool_size=(2, 2)))\n",
    "model.add(Dropout(rate=0.3))\n",
    "\n",
    "# Add the fifth and sixth convolutional layers with 128 filters\n",
    "model.add(Conv2D(filters=128, kernel_size=(3,3), padding='same', activation='relu', kernel_regularizer=l2(weight_decay)))\n",
    "model.add(BatchNormalization())\n",
    "model.add(Conv2D(filters=128, kernel_size=(3,3), padding='same', activation='relu', kernel_regularizer=l2(weight_decay)))\n",
    "model.add(BatchNormalization())\n",
    "\n",
    "# Add the third max pooling layer and increase dropout rate to 0.4\n",
    "model.add(MaxPooling2D(pool_size=(2, 2)))\n",
    "model.add(Dropout(rate=0.4))\n",
    "\n",
    "# Add the seventh and eighth convolutional layers with 256 filters\n",
    "model.add(Conv2D(filters=256, kernel_size=(3,3), padding='same', activation='relu', kernel_regularizer=l2(weight_decay)))\n",
    "model.add(BatchNormalization())\n",
    "model.add(Conv2D(filters=256, kernel_size=(3,3), padding='same', activation='relu', kernel_regularizer=l2(weight_decay)))\n",
    "model.add(BatchNormalization())\n",
    "\n",
    "# Add the fourth max pooling layer and increase dropout rate to 0.5\n",
    "model.add(MaxPooling2D(pool_size=(2, 2)))\n",
    "model.add(Dropout(rate=0.5))\n",
    "\n",
    "# Flatten the tensor output from the previous layer\n",
    "model.add(Flatten())\n",
    "\n",
    "# Add a fully connected layer with softmax activation function for outputting class probabilities\n",
    "model.add(Dense(18, activation='softmax'))"
   ]
  },
  {
   "cell_type": "code",
   "execution_count": 16,
   "metadata": {},
   "outputs": [
    {
     "name": "stdout",
     "output_type": "stream",
     "text": [
      "Epoch 1/300\n",
      "275/275 - 33s - loss: 12.0153 - accuracy: 0.1337 - val_loss: 9.4695 - val_accuracy: 0.0743 - lr: 5.0000e-04 - 33s/epoch - 119ms/step\n",
      "Epoch 2/300\n",
      "275/275 - 25s - loss: 11.4535 - accuracy: 0.1987 - val_loss: 10.6100 - val_accuracy: 0.2171 - lr: 5.0000e-04 - 25s/epoch - 90ms/step\n",
      "Epoch 3/300\n",
      "275/275 - 25s - loss: 10.2439 - accuracy: 0.2162 - val_loss: 27.4313 - val_accuracy: 0.1257 - lr: 5.0000e-04 - 25s/epoch - 90ms/step\n",
      "Epoch 4/300\n",
      "275/275 - 25s - loss: 9.1642 - accuracy: 0.2630 - val_loss: 12.3487 - val_accuracy: 0.2571 - lr: 5.0000e-04 - 25s/epoch - 91ms/step\n",
      "Epoch 5/300\n",
      "275/275 - 25s - loss: 7.8009 - accuracy: 0.3046 - val_loss: 15.6806 - val_accuracy: 0.2400 - lr: 5.0000e-04 - 25s/epoch - 90ms/step\n",
      "Epoch 6/300\n",
      "275/275 - 25s - loss: 6.4472 - accuracy: 0.3564 - val_loss: 12.6399 - val_accuracy: 0.2629 - lr: 5.0000e-04 - 25s/epoch - 90ms/step\n",
      "Epoch 7/300\n",
      "275/275 - 25s - loss: 5.6375 - accuracy: 0.4087 - val_loss: 12.6221 - val_accuracy: 0.2400 - lr: 5.0000e-04 - 25s/epoch - 91ms/step\n",
      "Epoch 8/300\n",
      "275/275 - 24s - loss: 4.5665 - accuracy: 0.4735 - val_loss: 12.9492 - val_accuracy: 0.2800 - lr: 5.0000e-04 - 24s/epoch - 89ms/step\n",
      "Epoch 9/300\n",
      "275/275 - 24s - loss: 3.6146 - accuracy: 0.5299 - val_loss: 7.9545 - val_accuracy: 0.3029 - lr: 5.0000e-04 - 24s/epoch - 88ms/step\n",
      "Epoch 10/300\n",
      "275/275 - 24s - loss: 2.9451 - accuracy: 0.5704 - val_loss: 11.1877 - val_accuracy: 0.3314 - lr: 5.0000e-04 - 24s/epoch - 87ms/step\n",
      "Epoch 11/300\n",
      "275/275 - 24s - loss: 2.2979 - accuracy: 0.6358 - val_loss: 10.2960 - val_accuracy: 0.3257 - lr: 5.0000e-04 - 24s/epoch - 87ms/step\n",
      "Epoch 12/300\n",
      "275/275 - 24s - loss: 1.8840 - accuracy: 0.6992 - val_loss: 8.4162 - val_accuracy: 0.3029 - lr: 5.0000e-04 - 24s/epoch - 87ms/step\n",
      "Epoch 13/300\n",
      "275/275 - 24s - loss: 1.5468 - accuracy: 0.7340 - val_loss: 9.2473 - val_accuracy: 0.3029 - lr: 5.0000e-04 - 24s/epoch - 87ms/step\n",
      "Epoch 14/300\n",
      "275/275 - 24s - loss: 1.3852 - accuracy: 0.7547 - val_loss: 9.9353 - val_accuracy: 0.3086 - lr: 5.0000e-04 - 24s/epoch - 87ms/step\n",
      "Epoch 15/300\n",
      "275/275 - 24s - loss: 1.1928 - accuracy: 0.7836 - val_loss: 9.8822 - val_accuracy: 0.3771 - lr: 5.0000e-04 - 24s/epoch - 87ms/step\n",
      "Epoch 16/300\n",
      "275/275 - 24s - loss: 1.0043 - accuracy: 0.8241 - val_loss: 9.1885 - val_accuracy: 0.3257 - lr: 5.0000e-04 - 24s/epoch - 87ms/step\n",
      "Epoch 17/300\n",
      "275/275 - 24s - loss: 0.8913 - accuracy: 0.8422 - val_loss: 10.0203 - val_accuracy: 0.3429 - lr: 5.0000e-04 - 24s/epoch - 87ms/step\n",
      "Epoch 18/300\n",
      "275/275 - 24s - loss: 0.8407 - accuracy: 0.8500 - val_loss: 10.2552 - val_accuracy: 0.2971 - lr: 5.0000e-04 - 24s/epoch - 87ms/step\n",
      "Epoch 19/300\n",
      "275/275 - 24s - loss: 0.7424 - accuracy: 0.8691 - val_loss: 9.2801 - val_accuracy: 0.2743 - lr: 5.0000e-04 - 24s/epoch - 87ms/step\n",
      "Epoch 20/300\n",
      "275/275 - 24s - loss: 0.4830 - accuracy: 0.9170 - val_loss: 8.5442 - val_accuracy: 0.3543 - lr: 2.5000e-04 - 24s/epoch - 87ms/step\n",
      "Epoch 21/300\n",
      "275/275 - 24s - loss: 0.3352 - accuracy: 0.9461 - val_loss: 8.8518 - val_accuracy: 0.3771 - lr: 2.5000e-04 - 24s/epoch - 87ms/step\n",
      "Epoch 22/300\n",
      "275/275 - 24s - loss: 0.2951 - accuracy: 0.9570 - val_loss: 9.1477 - val_accuracy: 0.3486 - lr: 2.5000e-04 - 24s/epoch - 87ms/step\n",
      "Epoch 23/300\n",
      "275/275 - 24s - loss: 0.2949 - accuracy: 0.9559 - val_loss: 8.6268 - val_accuracy: 0.3543 - lr: 2.5000e-04 - 24s/epoch - 87ms/step\n",
      "Epoch 24/300\n",
      "275/275 - 24s - loss: 0.2844 - accuracy: 0.9598 - val_loss: 8.8711 - val_accuracy: 0.3486 - lr: 2.5000e-04 - 24s/epoch - 87ms/step\n",
      "Epoch 25/300\n",
      "275/275 - 24s - loss: 0.2899 - accuracy: 0.9586 - val_loss: 8.9545 - val_accuracy: 0.3371 - lr: 2.5000e-04 - 24s/epoch - 87ms/step\n",
      "Epoch 26/300\n",
      "275/275 - 24s - loss: 0.3106 - accuracy: 0.9557 - val_loss: 9.0495 - val_accuracy: 0.3886 - lr: 2.5000e-04 - 24s/epoch - 87ms/step\n",
      "Epoch 27/300\n",
      "275/275 - 24s - loss: 0.3022 - accuracy: 0.9589 - val_loss: 9.3685 - val_accuracy: 0.3429 - lr: 2.5000e-04 - 24s/epoch - 87ms/step\n",
      "Epoch 28/300\n",
      "275/275 - 24s - loss: 0.3091 - accuracy: 0.9568 - val_loss: 9.4147 - val_accuracy: 0.3200 - lr: 2.5000e-04 - 24s/epoch - 87ms/step\n",
      "Epoch 29/300\n",
      "275/275 - 24s - loss: 0.3277 - accuracy: 0.9502 - val_loss: 9.4679 - val_accuracy: 0.3314 - lr: 2.5000e-04 - 24s/epoch - 87ms/step\n",
      "Epoch 30/300\n",
      "275/275 - 24s - loss: 0.2682 - accuracy: 0.9673 - val_loss: 8.3835 - val_accuracy: 0.3600 - lr: 1.2500e-04 - 24s/epoch - 87ms/step\n",
      "Epoch 31/300\n",
      "275/275 - 24s - loss: 0.2250 - accuracy: 0.9775 - val_loss: 8.4611 - val_accuracy: 0.3486 - lr: 1.2500e-04 - 24s/epoch - 87ms/step\n",
      "Epoch 32/300\n",
      "275/275 - 24s - loss: 0.2035 - accuracy: 0.9800 - val_loss: 8.8100 - val_accuracy: 0.3371 - lr: 1.2500e-04 - 24s/epoch - 87ms/step\n",
      "Epoch 33/300\n",
      "275/275 - 24s - loss: 0.2041 - accuracy: 0.9843 - val_loss: 9.2313 - val_accuracy: 0.3486 - lr: 1.2500e-04 - 24s/epoch - 87ms/step\n",
      "Epoch 34/300\n",
      "275/275 - 24s - loss: 0.2086 - accuracy: 0.9818 - val_loss: 8.9502 - val_accuracy: 0.3314 - lr: 1.2500e-04 - 24s/epoch - 87ms/step\n",
      "Epoch 35/300\n",
      "275/275 - 24s - loss: 0.1964 - accuracy: 0.9864 - val_loss: 8.8707 - val_accuracy: 0.3543 - lr: 1.2500e-04 - 24s/epoch - 87ms/step\n",
      "Epoch 36/300\n",
      "275/275 - 24s - loss: 0.1966 - accuracy: 0.9859 - val_loss: 8.5766 - val_accuracy: 0.3714 - lr: 1.2500e-04 - 24s/epoch - 87ms/step\n",
      "Epoch 37/300\n",
      "275/275 - 24s - loss: 0.1889 - accuracy: 0.9834 - val_loss: 8.6613 - val_accuracy: 0.3543 - lr: 1.2500e-04 - 24s/epoch - 87ms/step\n",
      "Epoch 38/300\n",
      "275/275 - 24s - loss: 0.1878 - accuracy: 0.9848 - val_loss: 8.7892 - val_accuracy: 0.3429 - lr: 1.2500e-04 - 24s/epoch - 87ms/step\n",
      "Epoch 39/300\n",
      "275/275 - 24s - loss: 0.1938 - accuracy: 0.9852 - val_loss: 9.1362 - val_accuracy: 0.3371 - lr: 1.2500e-04 - 24s/epoch - 87ms/step\n",
      "Epoch 40/300\n",
      "275/275 - 24s - loss: 0.1808 - accuracy: 0.9889 - val_loss: 8.8698 - val_accuracy: 0.3486 - lr: 6.2500e-05 - 24s/epoch - 87ms/step\n",
      "Epoch 41/300\n",
      "275/275 - 24s - loss: 0.1665 - accuracy: 0.9925 - val_loss: 8.5673 - val_accuracy: 0.3429 - lr: 6.2500e-05 - 24s/epoch - 87ms/step\n",
      "Epoch 42/300\n",
      "275/275 - 24s - loss: 0.1636 - accuracy: 0.9918 - val_loss: 8.7623 - val_accuracy: 0.3314 - lr: 6.2500e-05 - 24s/epoch - 87ms/step\n",
      "Epoch 43/300\n",
      "275/275 - 24s - loss: 0.1659 - accuracy: 0.9916 - val_loss: 9.0237 - val_accuracy: 0.3371 - lr: 6.2500e-05 - 24s/epoch - 87ms/step\n",
      "Epoch 44/300\n",
      "275/275 - 24s - loss: 0.1570 - accuracy: 0.9925 - val_loss: 8.7802 - val_accuracy: 0.3657 - lr: 6.2500e-05 - 24s/epoch - 87ms/step\n",
      "Epoch 45/300\n",
      "275/275 - 24s - loss: 0.1637 - accuracy: 0.9918 - val_loss: 8.8354 - val_accuracy: 0.3486 - lr: 6.2500e-05 - 24s/epoch - 87ms/step\n",
      "Epoch 46/300\n",
      "275/275 - 24s - loss: 0.1541 - accuracy: 0.9941 - val_loss: 8.8917 - val_accuracy: 0.3543 - lr: 6.2500e-05 - 24s/epoch - 87ms/step\n",
      "Epoch 47/300\n",
      "275/275 - 24s - loss: 0.1531 - accuracy: 0.9948 - val_loss: 8.5840 - val_accuracy: 0.3714 - lr: 6.2500e-05 - 24s/epoch - 88ms/step\n",
      "Epoch 48/300\n",
      "275/275 - 24s - loss: 0.1544 - accuracy: 0.9941 - val_loss: 8.3016 - val_accuracy: 0.3657 - lr: 6.2500e-05 - 24s/epoch - 88ms/step\n",
      "Epoch 49/300\n",
      "Restoring model weights from the end of the best epoch: 9.\n",
      "275/275 - 25s - loss: 0.1622 - accuracy: 0.9911 - val_loss: 8.5402 - val_accuracy: 0.3429 - lr: 6.2500e-05 - 25s/epoch - 90ms/step\n",
      "Epoch 49: early stopping\n"
     ]
    }
   ],
   "source": [
    "batch_size = 16\n",
    "epochs = 300\n",
    "model.compile(optimizer=Adam(learning_rate=0.0005), loss='categorical_crossentropy', metrics=['accuracy'])\n",
    "reduce_lr = ReduceLROnPlateau(monitor='val_loss', factor=0.5, patience=10, min_lr=0.00001)\n",
    "early_stopping = EarlyStopping(monitor='val_loss', patience=40, restore_best_weights=True, verbose=1)\n",
    "with (tf.device(get_available_gpus()[0])): # 1070ti \n",
    "    history = model.fit(train_generator,\n",
    "                    epochs=epochs,\n",
    "                    validation_data=test_generator,\n",
    "                    callbacks=[reduce_lr, early_stopping],\n",
    "                    verbose=2)\n"
   ]
  },
  {
   "cell_type": "code",
   "execution_count": 17,
   "metadata": {},
   "outputs": [
    {
     "data": {
      "image/png": "[encoded data removed]",
      "text/plain": [
       "<Figure size 1500x600 with 2 Axes>"
      ]
     },
     "metadata": {},
     "output_type": "display_data"
    }
   ],
   "source": [
    "\n",
    "import matplotlib.pyplot as plt\n",
    "# Plotting the training and validation loss\n",
    "plt.figure(figsize=(15,6))\n",
    "plt.subplot(1, 2, 1)\n",
    "plt.plot(history.history['loss'], label='Train Loss', color='#8502d1')\n",
    "plt.plot(history.history['val_loss'], label='Validation Loss', color='darkorange')\n",
    "plt.legend()\n",
    "plt.title('Loss Evolution')\n",
    "\n",
    "# Plotting the training and validation accuracy\n",
    "plt.subplot(1, 2, 2)\n",
    "plt.plot(history.history['accuracy'], label='Train Accuracy', color='#8502d1')\n",
    "plt.plot(history.history['val_accuracy'], label='Validation Accuracy', color='darkorange')\n",
    "plt.legend()\n",
    "plt.title('Accuracy Evolution')\n",
    "\n",
    "plt.show()\n"
   ]
  },
  {
   "cell_type": "code",
   "execution_count": 18,
   "metadata": {},
   "outputs": [
    {
     "name": "stdout",
     "output_type": "stream",
     "text": [
      "11/11 [==============================] - 1s 37ms/step - loss: 7.9545 - accuracy: 0.3029\n",
      "\n",
      "Test Accuracy: 0.3028571307659149\n",
      "Test Loss:     7.954537391662598\n"
     ]
    }
   ],
   "source": [
    "test_loss, test_acc = model.evaluate(test_generator, verbose=1)\n",
    "\n",
    "print('\\nTest Accuracy:', test_acc)\n",
    "print('Test Loss:    ', test_loss)"
   ]
  },
  {
   "cell_type": "code",
   "execution_count": 19,
   "metadata": {},
   "outputs": [],
   "source": [
    "model.save(\"my_model_VGG16.h5\")"
   ]
  }
 ],
 "metadata": {
  "kernelspec": {
   "display_name": "Python 3",
   "language": "python",
   "name": "python3"
  },
  "language_info": {
   "codemirror_mode": {
    "name": "ipython",
    "version": 3
   },
   "file_extension": ".py",
   "mimetype": "text/x-python",
   "name": "python",
   "nbconvert_exporter": "python",
   "pygments_lexer": "ipython3",
   "version": "3.9.8"
  }
 },
 "nbformat": 4,
 "nbformat_minor": 2
}
