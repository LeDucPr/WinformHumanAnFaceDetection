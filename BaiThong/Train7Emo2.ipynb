{
 "cells": [
  {
   "cell_type": "code",
   "execution_count": 7,
   "metadata": {},
   "outputs": [],
   "source": [
    "import numpy as np\n",
    "import tensorflow as tf\n",
    "import os\n",
    "from keras.preprocessing.image import ImageDataGenerator\n",
    "from tensorflow.python.client import device_lib\n"
   ]
  },
  {
   "cell_type": "code",
   "execution_count": 8,
   "metadata": {},
   "outputs": [
    {
     "name": "stdout",
     "output_type": "stream",
     "text": [
      "['/device:GPU:0']\n"
     ]
    }
   ],
   "source": [
    "def get_available_gpus():\n",
    "    local_device_protos = device_lib.list_local_devices()\n",
    "    return [x.name for x in local_device_protos if x.device_type == 'GPU']\n",
    "print (get_available_gpus())\n"
   ]
  },
  {
   "cell_type": "code",
   "execution_count": 9,
   "metadata": {},
   "outputs": [
    {
     "name": "stdout",
     "output_type": "stream",
     "text": [
      "Found 28709 images belonging to 7 classes.\n",
      "Found 7178 images belonging to 7 classes.\n"
     ]
    }
   ],
   "source": [
    "\n",
    "# Đường dẫn đến thư mục train và test\n",
    "train_dir = r'train'\n",
    "test_dir = r'test'\n",
    "\n",
    "# Tạo ImageDataGenerator\n",
    "train_datagen = ImageDataGenerator(rescale=1./255)\n",
    "test_datagen = ImageDataGenerator(rescale=1./255)\n",
    "\n",
    "# Tạo generator từ thư mục train và test\n",
    "train_generator = train_datagen.flow_from_directory(\n",
    "    train_dir,\n",
    "    target_size=(48, 48),\n",
    "    batch_size=32,\n",
    "    class_mode='categorical',\n",
    "    color_mode='rgb'\n",
    ")\n",
    "\n",
    "test_generator = test_datagen.flow_from_directory(\n",
    "    test_dir,\n",
    "    target_size=(48, 48),\n",
    "    batch_size=32,\n",
    "    class_mode='categorical',\n",
    "    color_mode='rgb'\n",
    ")\n"
   ]
  },
  {
   "cell_type": "code",
   "execution_count": 10,
   "metadata": {},
   "outputs": [
    {
     "name": "stdout",
     "output_type": "stream",
     "text": [
      "Train - angry: 3995\n",
      "Train - disgusted: 436\n",
      "Train - fearful: 4097\n",
      "Train - happy: 7215\n",
      "Train - neutral: 4965\n",
      "Train - sad: 4830\n",
      "Train - surprised: 3171\n",
      "Test - angry: 958\n",
      "Test - disgusted: 111\n",
      "Test - fearful: 1024\n",
      "Test - happy: 1774\n",
      "Test - neutral: 1233\n",
      "Test - sad: 1247\n",
      "Test - surprised: 831\n",
      "angry: [1. 0. 0. 0. 0. 0. 0.]\n",
      "disgusted: [0. 1. 0. 0. 0. 0. 0.]\n",
      "fearful: [0. 0. 1. 0. 0. 0. 0.]\n",
      "happy: [0. 0. 0. 1. 0. 0. 0.]\n",
      "neutral: [0. 0. 0. 0. 1. 0. 0.]\n",
      "sad: [0. 0. 0. 0. 0. 1. 0.]\n",
      "surprised: [0. 0. 0. 0. 0. 0. 1.]\n"
     ]
    }
   ],
   "source": [
    "# Hiển thị số lượng mẫu trong mỗi lớp cho tập huấn luyện\n",
    "train_class_counts = np.bincount(train_generator.classes)\n",
    "for emotion, count in zip(train_generator.class_indices, train_class_counts):\n",
    "    print(f'Train - {emotion}: {count}')\n",
    "\n",
    "# Hiển thị số lượng mẫu trong mỗi lớp cho tập kiểm tra\n",
    "test_class_counts = np.bincount(test_generator.classes)\n",
    "for emotion, count in zip(test_generator.class_indices, test_class_counts):\n",
    "    print(f'Test - {emotion}: {count}')\n",
    "\n",
    "# Hiển thị dạng one-hot của mỗi lớp\n",
    "for emotion, index in train_generator.class_indices.items():\n",
    "    one_hot = tf.keras.utils.to_categorical(index, num_classes=len(train_generator.class_indices))\n",
    "    print(f'{emotion}: {one_hot}')\n"
   ]
  },
  {
   "cell_type": "code",
   "execution_count": 11,
   "metadata": {},
   "outputs": [
    {
     "name": "stdout",
     "output_type": "stream",
     "text": [
      "{'angry': 0, 'disgusted': 1, 'fearful': 2, 'happy': 3, 'neutral': 4, 'sad': 5, 'surprised': 6}\n"
     ]
    }
   ],
   "source": [
    "print (train_generator.class_indices)"
   ]
  },
  {
   "cell_type": "code",
   "execution_count": 12,
   "metadata": {},
   "outputs": [
    {
     "name": "stdout",
     "output_type": "stream",
     "text": [
      "Data shape: (48, 48, 3)\n",
      "Data shape: (48, 48, 3)\n"
     ]
    }
   ],
   "source": [
    "def print_data_shape(generator): # oke, ta đã có kích thước cho mỗi traain hoặc test là 48x48x3\n",
    "    print(f'Data shape: {generator.image_shape}')\n",
    "\n",
    "print_data_shape(train_generator)\n",
    "print_data_shape(test_generator)\n"
   ]
  },
  {
   "cell_type": "code",
   "execution_count": 13,
   "metadata": {},
   "outputs": [],
   "source": [
    "from keras.applications import ResNet50\n",
    "from keras.models import Sequential\n",
    "from keras.layers import Dense, Conv2D, MaxPooling2D\n",
    "from keras.layers import Dropout, Flatten, BatchNormalization\n",
    "from keras.callbacks import ReduceLROnPlateau, EarlyStopping\n",
    "from keras.optimizers import Adam\n",
    "from sklearn.metrics import confusion_matrix\n",
    "from keras.regularizers import l2\n"
   ]
  },
  {
   "cell_type": "code",
   "execution_count": 14,
   "metadata": {},
   "outputs": [
    {
     "name": "stdout",
     "output_type": "stream",
     "text": [
      "(48, 48, 3)\n"
     ]
    }
   ],
   "source": [
    "input_shape=train_generator.image_shape\n",
    "print (input_shape)"
   ]
  },
  {
   "cell_type": "code",
   "execution_count": 15,
   "metadata": {},
   "outputs": [],
   "source": [
    "# Initialize a sequential model\n",
    "model = Sequential()\n",
    "\n",
    "# Set the weight decay value for L2 regularization\n",
    "weight_decay = 0.0001\n",
    "\n",
    "# Add the first convolutional layer with 32 filters of size 3x3\n",
    "model.add(Conv2D(input_shape=(48, 48, 3), filters=32, kernel_size=(3,3), padding='same', activation='relu', kernel_regularizer=l2(weight_decay)))\n",
    "                #  input_shape=train_generator.image_shape))\n",
    "# Add batch normalization layer\n",
    "model.add(BatchNormalization())\n",
    "\n",
    "# Add the second convolutional layer similar to the first\n",
    "model.add(Conv2D(filters=32, kernel_size=(3,3), padding='same', activation='relu', kernel_regularizer=l2(weight_decay)))\n",
    "model.add(BatchNormalization())\n",
    "\n",
    "# Add the first max pooling layer with pool size of 2x2\n",
    "model.add(MaxPooling2D(pool_size=(2, 2)))\n",
    "# Add dropout layer with 0.2 dropout rate\n",
    "model.add(Dropout(rate=0.2))\n",
    "\n",
    "# Add the third and fourth convolutional layers with 64 filters\n",
    "model.add(Conv2D(filters=64, kernel_size=(3,3), padding='same', activation='relu', kernel_regularizer=l2(weight_decay)))\n",
    "model.add(BatchNormalization())\n",
    "model.add(Conv2D(filters=64, kernel_size=(3,3), padding='same', activation='relu', kernel_regularizer=l2(weight_decay)))\n",
    "model.add(BatchNormalization())\n",
    "\n",
    "# Add the second max pooling layer and increase dropout rate to 0.3\n",
    "model.add(MaxPooling2D(pool_size=(2, 2)))\n",
    "model.add(Dropout(rate=0.3))\n",
    "\n",
    "# Add the fifth and sixth convolutional layers with 128 filters\n",
    "model.add(Conv2D(filters=128, kernel_size=(3,3), padding='same', activation='relu', kernel_regularizer=l2(weight_decay)))\n",
    "model.add(BatchNormalization())\n",
    "model.add(Conv2D(filters=128, kernel_size=(3,3), padding='same', activation='relu', kernel_regularizer=l2(weight_decay)))\n",
    "model.add(BatchNormalization())\n",
    "\n",
    "# Add the third max pooling layer and increase dropout rate to 0.4\n",
    "model.add(MaxPooling2D(pool_size=(2, 2)))\n",
    "model.add(Dropout(rate=0.4))\n",
    "\n",
    "# Add the seventh and eighth convolutional layers with 256 filters\n",
    "model.add(Conv2D(filters=256, kernel_size=(3,3), padding='same', activation='relu', kernel_regularizer=l2(weight_decay)))\n",
    "model.add(BatchNormalization())\n",
    "model.add(Conv2D(filters=256, kernel_size=(3,3), padding='same', activation='relu', kernel_regularizer=l2(weight_decay)))\n",
    "model.add(BatchNormalization())\n",
    "\n",
    "# Add the fourth max pooling layer and increase dropout rate to 0.5\n",
    "model.add(MaxPooling2D(pool_size=(2, 2)))\n",
    "model.add(Dropout(rate=0.5))\n",
    "\n",
    "# Flatten the tensor output from the previous layer\n",
    "model.add(Flatten())\n",
    "\n",
    "# Add a fully connected layer with softmax activation function for outputting class probabilities\n",
    "model.add(Dense(7, activation='softmax'))"
   ]
  },
  {
   "cell_type": "code",
   "execution_count": 16,
   "metadata": {},
   "outputs": [
    {
     "name": "stdout",
     "output_type": "stream",
     "text": [
      "Epoch 1/300\n",
      "898/898 - 37s - loss: 2.5964 - accuracy: 0.2693 - val_loss: 1.7285 - val_accuracy: 0.3753 - lr: 5.0000e-04 - 37s/epoch - 42ms/step\n",
      "Epoch 2/300\n",
      "898/898 - 32s - loss: 1.9765 - accuracy: 0.3759 - val_loss: 1.5824 - val_accuracy: 0.4326 - lr: 5.0000e-04 - 32s/epoch - 36ms/step\n",
      "Epoch 3/300\n",
      "898/898 - 32s - loss: 1.7411 - accuracy: 0.4402 - val_loss: 1.4404 - val_accuracy: 0.4873 - lr: 5.0000e-04 - 32s/epoch - 36ms/step\n",
      "Epoch 4/300\n",
      "898/898 - 32s - loss: 1.5910 - accuracy: 0.4782 - val_loss: 1.4326 - val_accuracy: 0.5063 - lr: 5.0000e-04 - 32s/epoch - 35ms/step\n",
      "Epoch 5/300\n",
      "898/898 - 31s - loss: 1.4334 - accuracy: 0.5098 - val_loss: 1.3118 - val_accuracy: 0.5488 - lr: 5.0000e-04 - 31s/epoch - 34ms/step\n",
      "Epoch 6/300\n",
      "898/898 - 32s - loss: 1.3396 - accuracy: 0.5457 - val_loss: 1.2939 - val_accuracy: 0.5571 - lr: 5.0000e-04 - 32s/epoch - 36ms/step\n",
      "Epoch 7/300\n",
      "898/898 - 32s - loss: 1.2970 - accuracy: 0.5649 - val_loss: 1.3077 - val_accuracy: 0.5421 - lr: 5.0000e-04 - 32s/epoch - 36ms/step\n",
      "Epoch 8/300\n",
      "898/898 - 33s - loss: 1.2692 - accuracy: 0.5807 - val_loss: 1.2231 - val_accuracy: 0.5963 - lr: 5.0000e-04 - 33s/epoch - 37ms/step\n",
      "Epoch 9/300\n",
      "898/898 - 33s - loss: 1.2476 - accuracy: 0.5954 - val_loss: 1.3179 - val_accuracy: 0.5637 - lr: 5.0000e-04 - 33s/epoch - 36ms/step\n",
      "Epoch 10/300\n",
      "898/898 - 32s - loss: 1.2164 - accuracy: 0.6093 - val_loss: 1.2683 - val_accuracy: 0.5954 - lr: 5.0000e-04 - 32s/epoch - 36ms/step\n",
      "Epoch 11/300\n",
      "898/898 - 31s - loss: 1.1962 - accuracy: 0.6214 - val_loss: 1.2572 - val_accuracy: 0.6030 - lr: 5.0000e-04 - 31s/epoch - 35ms/step\n",
      "Epoch 12/300\n",
      "898/898 - 32s - loss: 1.1824 - accuracy: 0.6331 - val_loss: 1.2522 - val_accuracy: 0.6062 - lr: 5.0000e-04 - 32s/epoch - 36ms/step\n",
      "Epoch 13/300\n",
      "898/898 - 32s - loss: 1.1537 - accuracy: 0.6489 - val_loss: 1.2369 - val_accuracy: 0.6205 - lr: 5.0000e-04 - 32s/epoch - 36ms/step\n",
      "Epoch 14/300\n",
      "898/898 - 33s - loss: 1.1409 - accuracy: 0.6573 - val_loss: 1.3797 - val_accuracy: 0.5775 - lr: 5.0000e-04 - 33s/epoch - 37ms/step\n",
      "Epoch 15/300\n",
      "898/898 - 33s - loss: 1.1308 - accuracy: 0.6695 - val_loss: 1.2306 - val_accuracy: 0.6330 - lr: 5.0000e-04 - 33s/epoch - 37ms/step\n",
      "Epoch 16/300\n",
      "898/898 - 33s - loss: 1.1062 - accuracy: 0.6781 - val_loss: 1.2766 - val_accuracy: 0.6241 - lr: 5.0000e-04 - 33s/epoch - 37ms/step\n",
      "Epoch 17/300\n",
      "898/898 - 33s - loss: 1.0935 - accuracy: 0.6891 - val_loss: 1.2807 - val_accuracy: 0.6346 - lr: 5.0000e-04 - 33s/epoch - 37ms/step\n",
      "Epoch 18/300\n",
      "898/898 - 32s - loss: 1.0759 - accuracy: 0.6951 - val_loss: 1.2819 - val_accuracy: 0.6358 - lr: 5.0000e-04 - 32s/epoch - 35ms/step\n",
      "Epoch 19/300\n",
      "898/898 - 33s - loss: 0.9782 - accuracy: 0.7353 - val_loss: 1.2347 - val_accuracy: 0.6571 - lr: 2.5000e-04 - 33s/epoch - 37ms/step\n",
      "Epoch 20/300\n",
      "898/898 - 32s - loss: 0.9277 - accuracy: 0.7520 - val_loss: 1.2372 - val_accuracy: 0.6548 - lr: 2.5000e-04 - 32s/epoch - 36ms/step\n",
      "Epoch 21/300\n",
      "898/898 - 32s - loss: 0.8894 - accuracy: 0.7672 - val_loss: 1.2670 - val_accuracy: 0.6539 - lr: 2.5000e-04 - 32s/epoch - 35ms/step\n",
      "Epoch 22/300\n",
      "898/898 - 33s - loss: 0.8649 - accuracy: 0.7752 - val_loss: 1.2451 - val_accuracy: 0.6583 - lr: 2.5000e-04 - 33s/epoch - 37ms/step\n",
      "Epoch 23/300\n",
      "898/898 - 34s - loss: 0.8476 - accuracy: 0.7818 - val_loss: 1.2608 - val_accuracy: 0.6553 - lr: 2.5000e-04 - 34s/epoch - 38ms/step\n",
      "Epoch 24/300\n",
      "898/898 - 32s - loss: 0.8201 - accuracy: 0.7941 - val_loss: 1.2664 - val_accuracy: 0.6527 - lr: 2.5000e-04 - 32s/epoch - 36ms/step\n",
      "Epoch 25/300\n",
      "898/898 - 34s - loss: 0.7980 - accuracy: 0.8006 - val_loss: 1.2989 - val_accuracy: 0.6578 - lr: 2.5000e-04 - 34s/epoch - 37ms/step\n",
      "Epoch 26/300\n",
      "898/898 - 34s - loss: 0.7868 - accuracy: 0.8066 - val_loss: 1.3478 - val_accuracy: 0.6459 - lr: 2.5000e-04 - 34s/epoch - 37ms/step\n",
      "Epoch 27/300\n",
      "898/898 - 34s - loss: 0.7687 - accuracy: 0.8103 - val_loss: 1.3182 - val_accuracy: 0.6548 - lr: 2.5000e-04 - 34s/epoch - 38ms/step\n",
      "Epoch 28/300\n",
      "898/898 - 33s - loss: 0.7453 - accuracy: 0.8229 - val_loss: 1.3253 - val_accuracy: 0.6556 - lr: 2.5000e-04 - 33s/epoch - 36ms/step\n",
      "Epoch 29/300\n",
      "898/898 - 36s - loss: 0.6922 - accuracy: 0.8417 - val_loss: 1.3494 - val_accuracy: 0.6560 - lr: 1.2500e-04 - 36s/epoch - 40ms/step\n",
      "Epoch 30/300\n",
      "898/898 - 33s - loss: 0.6709 - accuracy: 0.8510 - val_loss: 1.3728 - val_accuracy: 0.6567 - lr: 1.2500e-04 - 33s/epoch - 37ms/step\n",
      "Epoch 31/300\n",
      "898/898 - 33s - loss: 0.6434 - accuracy: 0.8572 - val_loss: 1.3784 - val_accuracy: 0.6602 - lr: 1.2500e-04 - 33s/epoch - 37ms/step\n",
      "Epoch 32/300\n",
      "898/898 - 33s - loss: 0.6398 - accuracy: 0.8582 - val_loss: 1.3888 - val_accuracy: 0.6608 - lr: 1.2500e-04 - 33s/epoch - 37ms/step\n",
      "Epoch 33/300\n",
      "898/898 - 33s - loss: 0.6162 - accuracy: 0.8684 - val_loss: 1.4089 - val_accuracy: 0.6606 - lr: 1.2500e-04 - 33s/epoch - 37ms/step\n",
      "Epoch 34/300\n",
      "898/898 - 32s - loss: 0.6077 - accuracy: 0.8716 - val_loss: 1.4347 - val_accuracy: 0.6565 - lr: 1.2500e-04 - 32s/epoch - 35ms/step\n",
      "Epoch 35/300\n",
      "898/898 - 33s - loss: 0.5902 - accuracy: 0.8740 - val_loss: 1.4142 - val_accuracy: 0.6606 - lr: 1.2500e-04 - 33s/epoch - 37ms/step\n",
      "Epoch 36/300\n",
      "898/898 - 33s - loss: 0.5860 - accuracy: 0.8777 - val_loss: 1.4329 - val_accuracy: 0.6609 - lr: 1.2500e-04 - 33s/epoch - 36ms/step\n",
      "Epoch 37/300\n",
      "898/898 - 33s - loss: 0.5727 - accuracy: 0.8816 - val_loss: 1.4454 - val_accuracy: 0.6585 - lr: 1.2500e-04 - 33s/epoch - 37ms/step\n",
      "Epoch 38/300\n",
      "898/898 - 32s - loss: 0.5670 - accuracy: 0.8833 - val_loss: 1.4721 - val_accuracy: 0.6616 - lr: 1.2500e-04 - 32s/epoch - 36ms/step\n",
      "Epoch 39/300\n",
      "898/898 - 33s - loss: 0.5289 - accuracy: 0.8944 - val_loss: 1.4768 - val_accuracy: 0.6622 - lr: 6.2500e-05 - 33s/epoch - 37ms/step\n",
      "Epoch 40/300\n",
      "898/898 - 33s - loss: 0.5241 - accuracy: 0.8973 - val_loss: 1.5050 - val_accuracy: 0.6637 - lr: 6.2500e-05 - 33s/epoch - 36ms/step\n",
      "Epoch 41/300\n",
      "898/898 - 32s - loss: 0.5195 - accuracy: 0.9011 - val_loss: 1.5097 - val_accuracy: 0.6637 - lr: 6.2500e-05 - 32s/epoch - 36ms/step\n",
      "Epoch 42/300\n",
      "898/898 - 33s - loss: 0.5183 - accuracy: 0.9016 - val_loss: 1.5072 - val_accuracy: 0.6669 - lr: 6.2500e-05 - 33s/epoch - 37ms/step\n",
      "Epoch 43/300\n",
      "898/898 - 34s - loss: 0.5028 - accuracy: 0.9034 - val_loss: 1.5129 - val_accuracy: 0.6670 - lr: 6.2500e-05 - 34s/epoch - 38ms/step\n",
      "Epoch 44/300\n",
      "898/898 - 32s - loss: 0.4889 - accuracy: 0.9108 - val_loss: 1.5363 - val_accuracy: 0.6654 - lr: 6.2500e-05 - 32s/epoch - 36ms/step\n",
      "Epoch 45/300\n",
      "898/898 - 34s - loss: 0.4978 - accuracy: 0.9071 - val_loss: 1.5380 - val_accuracy: 0.6701 - lr: 6.2500e-05 - 34s/epoch - 38ms/step\n",
      "Epoch 46/300\n",
      "898/898 - 32s - loss: 0.4843 - accuracy: 0.9123 - val_loss: 1.5491 - val_accuracy: 0.6654 - lr: 6.2500e-05 - 32s/epoch - 36ms/step\n",
      "Epoch 47/300\n",
      "898/898 - 33s - loss: 0.4840 - accuracy: 0.9115 - val_loss: 1.5572 - val_accuracy: 0.6659 - lr: 6.2500e-05 - 33s/epoch - 37ms/step\n",
      "Epoch 48/300\n",
      "Restoring model weights from the end of the best epoch: 8.\n",
      "898/898 - 37s - loss: 0.4784 - accuracy: 0.9122 - val_loss: 1.5534 - val_accuracy: 0.6633 - lr: 6.2500e-05 - 37s/epoch - 41ms/step\n",
      "Epoch 48: early stopping\n"
     ]
    }
   ],
   "source": [
    "batch_size = 32\n",
    "epochs = 300\n",
    "model.compile(optimizer=Adam(learning_rate=0.0005), loss='categorical_crossentropy', metrics=['accuracy'])\n",
    "reduce_lr = ReduceLROnPlateau(monitor='val_loss', factor=0.5, patience=10, min_lr=0.00001)\n",
    "early_stopping = EarlyStopping(monitor='val_loss', patience=40, restore_best_weights=True, verbose=1)\n",
    "with (tf.device(get_available_gpus()[0])): # 1070ti \n",
    "    history = model.fit(train_generator,\n",
    "                    epochs=epochs,\n",
    "                    validation_data=test_generator,\n",
    "                    callbacks=[reduce_lr, early_stopping],\n",
    "                    verbose=2)\n"
   ]
  },
  {
   "cell_type": "code",
   "execution_count": 17,
   "metadata": {},
   "outputs": [
    {
     "data": {
      "image/png": "[encoded data removed]",
      "text/plain": [
       "<Figure size 1500x600 with 2 Axes>"
      ]
     },
     "metadata": {},
     "output_type": "display_data"
    }
   ],
   "source": [
    "\n",
    "import matplotlib.pyplot as plt\n",
    "# Plotting the training and validation loss\n",
    "plt.figure(figsize=(15,6))\n",
    "plt.subplot(1, 2, 1)\n",
    "plt.plot(history.history['loss'], label='Train Loss', color='#8502d1')\n",
    "plt.plot(history.history['val_loss'], label='Validation Loss', color='darkorange')\n",
    "plt.legend()\n",
    "plt.title('Loss Evolution')\n",
    "\n",
    "# Plotting the training and validation accuracy\n",
    "plt.subplot(1, 2, 2)\n",
    "plt.plot(history.history['accuracy'], label='Train Accuracy', color='#8502d1')\n",
    "plt.plot(history.history['val_accuracy'], label='Validation Accuracy', color='darkorange')\n",
    "plt.legend()\n",
    "plt.title('Accuracy Evolution')\n",
    "\n",
    "plt.show()\n"
   ]
  },
  {
   "cell_type": "code",
   "execution_count": 18,
   "metadata": {},
   "outputs": [
    {
     "name": "stdout",
     "output_type": "stream",
     "text": [
      "225/225 [==============================] - 6s 26ms/step - loss: 1.2231 - accuracy: 0.5963\n",
      "\n",
      "Test Accuracy: 0.5962663888931274\n",
      "Test Loss:     1.2231231927871704\n"
     ]
    }
   ],
   "source": [
    "test_loss, test_acc = model.evaluate(test_generator, verbose=1)\n",
    "\n",
    "print('\\nTest Accuracy:', test_acc)\n",
    "print('Test Loss:    ', test_loss)"
   ]
  },
  {
   "cell_type": "code",
   "execution_count": 19,
   "metadata": {},
   "outputs": [],
   "source": [
    "# from sklearn.metrics import classification_report\n",
    "# import numpy as np\n",
    "\n",
    "# # Dự đoán giá trị từ tập test\n",
    "# y_pred = model.predict(X_test)\n",
    "\n",
    "# # Chuyển đổi lớp dự đoán thành one hot vectors \n",
    "# y_pred_classes = np.argmax(y_pred, axis = 1) \n",
    "\n",
    "# # Chuyển đổi quan sát test thành one hot vectors\n",
    "# y_true = np.argmax(y_test, axis = 1) \n",
    "\n",
    "# # Tính toán ma trận nhầm lẫn\n",
    "# confusion_mtx = confusion_matrix(y_true, y_pred_classes) \n",
    "\n",
    "# # Tính toán báo cáo phân loại\n",
    "# classificationReport = classification_report(y_true, y_pred_classes, digits = 3)\n",
    "\n",
    "# print('Báo cáo phân loại:')\n",
    "# print(classificationReport)"
   ]
  },
  {
   "cell_type": "code",
   "execution_count": 20,
   "metadata": {},
   "outputs": [],
   "source": [
    "model.save(\"my_model_2.h5\")"
   ]
  }
 ],
 "metadata": {
  "kernelspec": {
   "display_name": "Python 3",
   "language": "python",
   "name": "python3"
  },
  "language_info": {
   "codemirror_mode": {
    "name": "ipython",
    "version": 3
   },
   "file_extension": ".py",
   "mimetype": "text/x-python",
   "name": "python",
   "nbconvert_exporter": "python",
   "pygments_lexer": "ipython3",
   "version": "3.9.8"
  }
 },
 "nbformat": 4,
 "nbformat_minor": 2
}
